{
 "cells": [
  {
   "cell_type": "code",
   "execution_count": 167,
   "metadata": {
    "collapsed": true
   },
   "outputs": [],
   "source": [
    "import pandas as pd\n",
    "from bs4 import BeautifulSoup\n",
    "import requests\n",
    "import unicodedata\n",
    "import csv\n",
    "import sys"
   ]
  },
  {
   "cell_type": "code",
   "execution_count": 193,
   "metadata": {
    "collapsed": true
   },
   "outputs": [],
   "source": [
    "class Get_Player_info() :\n",
    "    \n",
    "    def get_info(self,search_word) :\n",
    "        data = requests.get(r\"http://stats.espncricinfo.com/ci/engine/stats/analysis.html?search=\"+search_word)\n",
    "        data_html = BeautifulSoup(data.text)\n",
    "        \n",
    "        #Get all player name\n",
    "        name = data_html.find_all('span',{'style':\"white-space: nowrap\"})\n",
    "        \n",
    "        #Get all player numbers\n",
    "        s = ''\n",
    "        numbers = \" \".join([x['href'] for x in data_html.findAll('a',{\"class\":\"statsLinks\"}) ])\n",
    "        player_num = (re.findall(\"/player/(\\d+)\\.html?\",numbers))\n",
    "        \n",
    "        #remove duplicates and preserve order\n",
    "        player_num_new = []\n",
    "        for x in player_num :\n",
    "            if x not in player_num_new :\n",
    "                player_num_new.append(x)\n",
    "        \n",
    "        #\"name\" will have two names for each player\n",
    "        #RR David (Ramesh David)\n",
    "        #S Ramesh (Sadagoppan Ramesh)\n",
    "        # So we make logic to combine two names and then map it with correct number\n",
    "        player_info = {}\n",
    "        for i,a in enumerate(name) :\n",
    "            if i%2 == 0 :\n",
    "                num_name = a.text\n",
    "            else :\n",
    "                num_name = num_name + ' ' + a.text\n",
    "                player_info[num_name] = player_num_new[i/2]\n",
    "        \n",
    "        return player_info\n",
    "        \n",
    "        \n",
    "    def get_ALL_player_info(self,format_class) :\n",
    "        class_num = 1\n",
    "        if format_class.lower() == 'test' :\n",
    "            class_num = 1\n",
    "        elif format_class.lower() == 'odi' :\n",
    "            class_num = 2 \n",
    "        elif format_class.lower() == 't20' :\n",
    "            class_num = 3\n",
    "        else :\n",
    "            sys.exit(\"Incorrect Format !!\")\n",
    "            \n",
    "        ALL_player_dict = {}\n",
    "        print \"Please have some coffee till script gets you all the player info.. patience please ;)\" \n",
    "        #Request the website for each of these numbers and get the corresponding number\n",
    "        for i in range(1000,40000) :\n",
    "            data = requests.get(r\"http://stats.espncricinfo.com/ci/engine/player/\"+str(i)+\".html?class=\"+str(class_num)+\";type=allround\")\n",
    "            data_html = BeautifulSoup(data.text)\n",
    "            name = data_html.find('h1',{'class':\"SubnavSitesection\"})\n",
    "            if name :\n",
    "                print str(i)\n",
    "                player_name = name.text.split('\\n')[4]\n",
    "                player_name = unicodedata.normalize('NFKD', player_name).encode('ascii','ignore')\n",
    "                player_name = player_name.strip('/').strip(' ')\n",
    "                print \"Caught \"+player_name+\" at  \"+str(i)\n",
    "                ALL_player_dict[player_name] = i\n",
    "        \n",
    "        return ALL_player_dict\n",
    "    \n",
    "    def write_to_csv(self,path,player_dict) :\n",
    "        with open(path, 'wb') as f:\n",
    "            w = csv.writer(f)\n",
    "            for x in player_dict :\n",
    "                w.writerow((x,player_dict[x]))\n",
    "        "
   ]
  },
  {
   "cell_type": "code",
   "execution_count": 194,
   "metadata": {
    "collapsed": true
   },
   "outputs": [],
   "source": [
    "obj = Get_Player_info()"
   ]
  },
  {
   "cell_type": "code",
   "execution_count": 196,
   "metadata": {
    "collapsed": false
   },
   "outputs": [
    {
     "data": {
      "text/plain": [
       "{u'(Ramesh Saxena) RK Sethi': '33882',\n",
       " u'(Ramesh Sethi) RB Shah': '23972',\n",
       " u'(Ramesh Shah) RD Singh': '47180',\n",
       " u'M Ramesh Kumar (Ramesh Kumar)': '391441',\n",
       " u'R Jadhav (Ramesh Jadhav)': '29643',\n",
       " u'RR David (Ramesh David)': '365126',\n",
       " u'RR Powar (Ramesh Powar)': '32391',\n",
       " u'RTM Mendis (Ramesh Mendis)': '629084',\n",
       " u'RV Divecha (Ramesh Divecha)': '28095',\n",
       " u'Ramesh Menon RC Saxena': '522800',\n",
       " u'S Ramesh (Sadagoppan Ramesh)': '33066',\n",
       " u'S Ramesh (Srinivasan Ramesh)': '33415'}"
      ]
     },
     "execution_count": 196,
     "metadata": {},
     "output_type": "execute_result"
    }
   ],
   "source": [
    "obj.get_info('ramesh')"
   ]
  },
  {
   "cell_type": "code",
   "execution_count": null,
   "metadata": {
    "collapsed": true
   },
   "outputs": [],
   "source": [
    "player_dict = obj.get_ALL_player_info(format_class = \"odi\")"
   ]
  },
  {
   "cell_type": "code",
   "execution_count": null,
   "metadata": {
    "collapsed": true
   },
   "outputs": [],
   "source": [
    "obj.write_to_csv(\"player_info.csv\",player_dict)"
   ]
  }
 ],
 "metadata": {
  "kernelspec": {
   "display_name": "Python 2",
   "language": "python",
   "name": "python2"
  }
 },
 "nbformat": 4,
 "nbformat_minor": 0
}
