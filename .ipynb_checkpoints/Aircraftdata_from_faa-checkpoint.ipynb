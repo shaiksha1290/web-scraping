{
 "cells": [
  {
   "cell_type": "code",
   "execution_count": 1,
   "metadata": {
    "collapsed": false
   },
   "outputs": [],
   "source": [
    "import pandas as pd\n",
    "import requests\n",
    "from bs4 import BeautifulSoup"
   ]
  },
  {
   "cell_type": "code",
   "execution_count": 2,
   "metadata": {
    "collapsed": true
   },
   "outputs": [],
   "source": [
    "path = r\"E:\\G Project\\2014_2015\\final_dataset.csv\"\n",
    "csvfile = pd.read_csv(path)"
   ]
  },
  {
   "cell_type": "code",
   "execution_count": 3,
   "metadata": {
    "collapsed": false
   },
   "outputs": [],
   "source": [
    "tailnum_list = csvfile.TAIL_NUM.unique()"
   ]
  },
  {
   "cell_type": "code",
   "execution_count": 4,
   "metadata": {
    "collapsed": true
   },
   "outputs": [],
   "source": [
    "html_tags = {\"aircraft_type\" : {\"id\":\"content_Label11\", \"class\":\"Results_DataText\"},\n",
    "            \"Manufacturer_Name\" :{\"id\":\"content_lbMfrName\",\"class\":\"Results_DataText\"},\n",
    "             \"Certificate_Issue_Date\" : {\"id\":\"content_lbCertDate\", \"class\":\"Results_DataText\"},\n",
    "             \"Model\" : {\"id\":\"content_Label7\", \"class\":\"Results_DataText\"},\n",
    "             \"Status\" : {\"id\":\"content_lbStatus\",\"class\":\"Results_DataText\"},\n",
    "             \"Type_Registration\" : {\"id\":\"content_lbTypeReg\", \"class\":\"Results_DataText\"},\n",
    "             \"Type_Engine\" : {\"id\":\"content_lbTypeEng\", \"class\":\"Results_DataText\"},\n",
    "             \"MFR_Year\" : {\"id\":\"content_Label17\", \"class\":\"Results_DataText\"},\n",
    "             }"
   ]
  },
  {
   "cell_type": "code",
   "execution_count": 5,
   "metadata": {
    "collapsed": true
   },
   "outputs": [],
   "source": [
    "tail_num = {}"
   ]
  },
  {
   "cell_type": "code",
   "execution_count": null,
   "metadata": {
    "collapsed": false
   },
   "outputs": [],
   "source": [
    "for each_tailnum in tailnum_list :\n",
    "    tail_num[each_tailnum] = {}\n",
    "    data = requests.get(\"http://registry.faa.gov//aircraftinquiry//NNum_Results.aspx?nNumberTxt=\"+str(each_tailnum))\n",
    "    data_html = BeautifulSoup(data.text)\n",
    "    for tag in html_tags :\n",
    "        try :\n",
    "            tail_num [each_tailnum][tag] = data_html.find(\"span\",html_tags[tag]).text.strip()\n",
    "        except :\n",
    "            pass\n"
   ]
  },
  {
   "cell_type": "code",
   "execution_count": 60,
   "metadata": {
    "collapsed": false
   },
   "outputs": [],
   "source": [
    "tail_num_df = pd.DataFrame(tail_num.items())\n",
    "tail_num_df.to_csv(\"Aircraft_Data.csv\")"
   ]
  },
  {
   "cell_type": "code",
   "execution_count": null,
   "metadata": {
    "collapsed": true
   },
   "outputs": [],
   "source": []
  }
 ],
 "metadata": {
  "kernelspec": {
   "display_name": "Python 2",
   "language": "python",
   "name": "python2"
  },
  "language_info": {
   "codemirror_mode": {
    "name": "ipython",
    "version": 2
   },
   "file_extension": ".py",
   "mimetype": "text/x-python",
   "name": "python",
   "nbconvert_exporter": "python",
   "pygments_lexer": "ipython2",
   "version": "2.7.9"
  }
 },
 "nbformat": 4,
 "nbformat_minor": 0
}
